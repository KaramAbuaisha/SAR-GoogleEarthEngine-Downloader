{
 "cells": [
  {
   "cell_type": "code",
   "execution_count": null,
   "metadata": {},
   "outputs": [],
   "source": [
    "# Import the Earth Engine Python Package\n",
    "import ee\n",
    "import wget\n",
    "import threading\n",
    "\n",
    "# Initialize the Earth Engine object, using the authentication credentials.\n",
    "ee.Initialize()\n",
    "roi = ee.Geometry.Polygon([[-150.60058593749994, 74.81042419434962],[-146.11816406249997, 74.81042419434962],[-146.11816406249997, 75.74812548842993],[-150.60058593749994, 75.74812548842993],[-150.60058593749994, 74.81042419434962]]);\n",
    "col = ee.ImageCollection('COPERNICUS/S1_GRD').filterBounds(roi).filterDate('2019-11-06','2019-11-09').filter(ee.Filter.listContains('transmitterReceiverPolarisation', 'HH')).filter(ee.Filter.listContains('transmitterReceiverPolarisation', 'HV')).filter(ee.Filter.eq('instrumentMode', 'EW'))\n",
    "img_list = col.toList(col.size())\n",
    "\n",
    "scale = 1024\n",
    "# Change scale to ~128? \n",
    "# I think that may be what we want for images scaled down by 4 in each dimension, since it is about 4000x4000\n",
    "# The minimum scale for downloading like this is ~44.4\n",
    "\n",
    "# If you want to download larger scenes, see code below, it downloads to your google drive (until it's full)\n",
    "# Problem with it is it only downloads 1 tif file per scene? not sure why. \n",
    "# for i in range(img_list.size().getInfo()):\n",
    "#     img = ee.Image(img_list.get(i))\n",
    "#     img = img.toFloat() # converts to float32 from double, necessary for drive download\n",
    "#     task=ee.batch.Export.image.toDrive(image=img, folder='SAR', scale=scale, maxPixels=10**9)\n",
    "#     task.start()\n",
    "\n",
    "# This code downloads one file at a time\n",
    "# for i in range(img_list.size().getInfo()):\n",
    "#     img = ee.Image(img_list.get(i))\n",
    "#     img = img.toFloat() # converts to float32 from double\n",
    "#     wget.download(img.getDownloadURL(params={'scale': scale})) \n",
    "\n",
    "# This code downloads in parallel using threading, it is faster\n",
    "def download(url):\n",
    "    wget.download(url)\n",
    "    return\n",
    "\n",
    "for i in range(img_list.size().getInfo()):\n",
    "    img = ee.Image(img_list.get(i))\n",
    "#     img = img.toFloat() # converts to float32 from double\n",
    "    download_thread = threading.Thread(target=download, args=(img.getDownloadURL(params={'scale': scale}),))\n",
    "    download_thread.start()"
   ]
  },
  {
   "cell_type": "code",
   "execution_count": null,
   "metadata": {},
   "outputs": [],
   "source": [
    "scale = 1024\n",
    "for i in range(img_list.size().getInfo()):\n",
    "    img = ee.Image(img_list.get(i))\n",
    "    img = img.toFloat() # converts to float32 from double\n",
    "    task=ee.batch.Export.image.toDrive(image=img, folder='SAR', scale=scale, maxPixels=10**9)\n",
    "    task.start()"
   ]
  },
  {
   "cell_type": "code",
   "execution_count": null,
   "metadata": {},
   "outputs": [],
   "source": [
    "img.getInfo()"
   ]
  },
  {
   "cell_type": "code",
   "execution_count": null,
   "metadata": {},
   "outputs": [],
   "source": [
    "# This worked\n",
    "n=0\n",
    "img_list = col.toList(col.size())\n",
    "img = ee.Image(img_list.get(n))\n",
    "img = img.toFloat()\n",
    "task=ee.batch.Export.image.toDrive(image=img, folder='SAR', maxPixels=10**9)\n",
    "task.start()"
   ]
  },
  {
   "cell_type": "code",
   "execution_count": null,
   "metadata": {},
   "outputs": [],
   "source": [
    "tasklist = []\n",
    "img_list = col.toList(col.size())\n",
    "n = 0\n",
    "while True:\n",
    "    try:\n",
    "        img = ee.Image(img_list.get(n))\n",
    "\n",
    "        # convert data type\n",
    "        img = img.toFloat()\n",
    "\n",
    "        task = ee.batch.Export.image.toDrive(image=img, folder='SAR', maxPixels=10**9)\n",
    "        task.start()\n",
    "        tasklist.append(task)\n",
    "        n += 1\n",
    "    except Exception as e:\n",
    "        error = str(e).split(':')\n",
    "        if error[0] == 'List.get':\n",
    "            break\n",
    "        else:\n",
    "            raise e\n"
   ]
  },
  {
   "cell_type": "code",
   "execution_count": null,
   "metadata": {},
   "outputs": [],
   "source": [
    "# Export the image, specifying scale and region.\n",
    "tasks = batch.imagecollection.toDrive(col, 'SAR', region=roi, scale=1000)#, scale=10, region = roi.getInfo()[\"coordinates\"], dataType = 'float')"
   ]
  },
  {
   "cell_type": "code",
   "execution_count": null,
   "metadata": {
    "scrolled": true
   },
   "outputs": [],
   "source": [
    "help(ee.batch.Export.image.toDrive)"
   ]
  }
 ],
 "metadata": {
  "kernelspec": {
   "display_name": "Python 3",
   "language": "python",
   "name": "python3"
  },
  "language_info": {
   "codemirror_mode": {
    "name": "ipython",
    "version": 3
   },
   "file_extension": ".py",
   "mimetype": "text/x-python",
   "name": "python",
   "nbconvert_exporter": "python",
   "pygments_lexer": "ipython3",
   "version": "3.6.9"
  }
 },
 "nbformat": 4,
 "nbformat_minor": 2
}
